{
  "nbformat": 4,
  "nbformat_minor": 0,
  "metadata": {
    "colab": {
      "name": "pro-105.ipynb",
      "provenance": [],
      "authorship_tag": "ABX9TyNyIrMY4Y37zKNFz63ejFVs",
      "include_colab_link": true
    },
    "kernelspec": {
      "name": "python3",
      "display_name": "Python 3"
    },
    "language_info": {
      "name": "python"
    }
  },
  "cells": [
    {
      "cell_type": "markdown",
      "metadata": {
        "id": "view-in-github",
        "colab_type": "text"
      },
      "source": [
        "<a href=\"https://colab.research.google.com/github/shashwatshukla123/pro-105/blob/main/pro_105.ipynb\" target=\"_parent\"><img src=\"https://colab.research.google.com/assets/colab-badge.svg\" alt=\"Open In Colab\"/></a>"
      ]
    },
    {
      "cell_type": "code",
      "metadata": {
        "id": "fDmQPgso0JOM"
      },
      "source": [
        "import math"
      ],
      "execution_count": 1,
      "outputs": []
    },
    {
      "cell_type": "code",
      "metadata": {
        "id": "48uUSLD62cy7"
      },
      "source": [
        "# list of elements to calculate mean\n",
        "import csv\n",
        "with open('data.csv', newline='') as f:\n",
        "    reader = csv.reader(f)\n",
        "    file_data = list(reader)\n",
        "\n",
        "data = file_data[0]"
      ],
      "execution_count": 2,
      "outputs": []
    },
    {
      "cell_type": "code",
      "metadata": {
        "id": "SHgjWM032jBk"
      },
      "source": [
        "# finding mean\n",
        "def mean(data):\n",
        "    n= len(data)\n",
        "    total =0\n",
        "    for x in data:\n",
        "        total += int(x)\n",
        "\n",
        "    mean = total / n\n",
        "    return mean"
      ],
      "execution_count": 3,
      "outputs": []
    },
    {
      "cell_type": "code",
      "metadata": {
        "id": "TMOj-wUU2m-M"
      },
      "source": [
        "# squaring and getting the values\n",
        "squared_list= []\n",
        "for number in data:\n",
        "    a = int(number) - mean(data)\n",
        "    a= a**2\n",
        "    squared_list.append(a)"
      ],
      "execution_count": 4,
      "outputs": []
    },
    {
      "cell_type": "code",
      "metadata": {
        "id": "XxXE46RI2sSk"
      },
      "source": [
        "#getting sum\n",
        "sum =0\n",
        "for i in squared_list:\n",
        "    sum =sum + i"
      ],
      "execution_count": 5,
      "outputs": []
    },
    {
      "cell_type": "code",
      "metadata": {
        "id": "c_5G9ofY2ttz"
      },
      "source": [
        "#dividing the sum by the total values\n",
        "result = sum/ (len(data)-1)"
      ],
      "execution_count": 6,
      "outputs": []
    },
    {
      "cell_type": "code",
      "metadata": {
        "colab": {
          "base_uri": "https://localhost:8080/"
        },
        "id": "wb1Mz3hX2wTr",
        "outputId": "4200e0c1-ab4e-4809-f244-a04a9d749331"
      },
      "source": [
        "# getting the deviation by taking square root of the result\n",
        "std_deviation = math.sqrt(result)\n",
        "print(std_deviation)"
      ],
      "execution_count": 9,
      "outputs": [
        {
          "output_type": "stream",
          "name": "stdout",
          "text": [
            "17.093208527885505\n"
          ]
        }
      ]
    }
  ]
}